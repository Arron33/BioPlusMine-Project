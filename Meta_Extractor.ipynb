{
 "cells": [
  {
   "cell_type": "code",
   "execution_count": 1,
   "id": "882b7945",
   "metadata": {},
   "outputs": [],
   "source": [
    "import json\n",
    "from glob import glob\n",
    "import os\n",
    "import subprocess"
   ]
  },
  {
   "cell_type": "code",
   "execution_count": 2,
   "id": "614da462",
   "metadata": {},
   "outputs": [],
   "source": [
    "#subprocess.call('{} split --capacity 5000000 {}.las outfile.las'.format(path_to_pdal,file_name), shell=True)"
   ]
  },
  {
   "cell_type": "code",
   "execution_count": 3,
   "id": "ad88d2a6",
   "metadata": {},
   "outputs": [],
   "source": [
    "all_files = [os.path.splitext(val)[0] for val in glob('../Philippines_Fieldwork/P4/DCIM/*')]"
   ]
  },
  {
   "cell_type": "code",
   "execution_count": null,
   "id": "6a345b36",
   "metadata": {},
   "outputs": [
    {
     "name": "stdout",
     "output_type": "stream",
     "text": [
      "../Philippines_Fieldwork/P4/DCIM/115FPLAN\n"
     ]
    },
    {
     "name": "stderr",
     "output_type": "stream",
     "text": [
      "Error: File is empty - ./testout.csv\n",
      "Error: File format error - ./Flight Records/DJIFlightRecord_2022-11-02_[12-29-29].txt\n",
      "Error: File format error - ./Flight Records/DJIFlightRecord_2022-11-01_[16-49-00].txt\n",
      "Error: File format error - ./Flight Records/DJIFlightRecord_2022-11-01_[15-53-12].txt\n",
      "Error: File format error - ./Flight Records/DJIFlightRecord_2022-11-03_[13-59-11].txt\n",
      "Error: File format error - ./Flight Records/DJIFlightRecord_2022-11-03_[15-21-32].txt\n",
      "Error: File format error - ./Flight Records/DJIFlightRecord_2022-11-03_[13-34-44].txt\n",
      "Error: File format error - ./Flight Records/DJIFlightRecord_2022-11-02_[13-04-19].txt\n",
      "Error: File format error - ./Flight Records/DJIFlightRecord_2022-11-04_[13-59-59].txt\n",
      "Error: File format error - ./Flight Records/DJIFlightRecord_2022-11-03_[15-50-16].txt\n",
      "Error: File format error - ./Flight Records/DJIFlightRecord_2022-11-04_[09-34-25].txt\n",
      "Error: File format error - ./Flight Records/DJIFlightRecord_2022-11-04_[11-36-07].txt\n",
      "Error: File format error - ./Flight Records/DJIFlightRecord_2022-11-03_[14-29-03].txt\n",
      "Error: File format error - ./Flight Records/DJIFlightRecord_2022-11-02_[15-17-10].txt\n",
      "Error: File format error - ./Flight Records/DJIFlightRecord_2022-11-03_[15-53-27].txt\n",
      "Error: File format error - ./Flight Records/DJIFlightRecord_2022-10-22_[16-56-33].txt\n",
      "Error: File format error - ./Flight Records/DJIFlightRecord_2022-11-04_[13-12-51].txt\n",
      "Error: File format error - ./Flight Records/DJIFlightRecord_2022-11-04_[09-55-09].txt\n",
      "Error: File format error - ./Flight Records/DJIFlightRecord_2022-11-03_[13-21-22].txt\n",
      "Error: File format error - ./Flight Records/DJIFlightRecord_2022-11-04_[10-37-28].txt\n",
      "Error: File format error - ./Flight Records/DJIFlightRecord_2022-11-03_[13-20-14].txt\n",
      "Error: File format error - ./Flight Records/DJIFlightRecord_2022-10-22_[16-51-50].txt\n",
      "Error: File format error - ./Flight Records/DJIFlightRecord_2022-11-03_[15-52-00].txt\n",
      "Error: File format error - ./Flight Records/DJIFlightRecord_2022-11-04_[09-46-59].txt\n",
      "Warning: [Minor] Not counting rows past 1000 - ./metadata5.csv\n",
      "Warning: [Minor] Not counting rows past 1000 - ./metadata4.csv\n",
      "Warning: [Minor] Not counting rows past 1000 - ./metadata6.csv\n",
      "Warning: [Minor] Not counting rows past 1000 - ./metadata3.csv\n",
      "Warning: [minor] The ExtractEmbedded option may find more tags in the media data - ./M300/DCIM/DJI_202211050523_010/DJI_20221105052317_0001.MOV\n",
      "Warning: [minor] The ExtractEmbedded option may find more tags in the media data - ./M300/DCIM/DJI_202211050523_010/DJI_20221105053412_0003.MOV\n",
      "Warning: [minor] The ExtractEmbedded option may find more tags in the media data - ./M300/DCIM/DJI_202211050523_010/DJI_20221105052845_0002.MOV\n",
      "Warning: [minor] The ExtractEmbedded option may find more tags in the media data - ./M300/DCIM/DJI_202211050648_013/DJI_20221105064855_0004.MOV\n",
      "Warning: [minor] The ExtractEmbedded option may find more tags in the media data - ./M300/DCIM/DJI_202211050614_011/DJI_20221105061500_0002.MOV\n",
      "Warning: [minor] The ExtractEmbedded option may find more tags in the media data - ./M300/DCIM/DJI_202210311605_001/DJI_20221031160556_0001.MOV\n",
      "Warning: [Minor] Not counting rows past 1000 - ./metadata2.csv\n"
     ]
    },
    {
     "name": "stdout",
     "output_type": "stream",
     "text": [
      "../Philippines_Fieldwork/P4/DCIM/118MEDIA\n"
     ]
    },
    {
     "name": "stderr",
     "output_type": "stream",
     "text": [
      "Error: File is empty - ./testout.csv\n",
      "Error: File format error - ./Flight Records/DJIFlightRecord_2022-11-02_[12-29-29].txt\n",
      "Error: File format error - ./Flight Records/DJIFlightRecord_2022-11-01_[16-49-00].txt\n",
      "Error: File format error - ./Flight Records/DJIFlightRecord_2022-11-01_[15-53-12].txt\n",
      "Error: File format error - ./Flight Records/DJIFlightRecord_2022-11-03_[13-59-11].txt\n",
      "Error: File format error - ./Flight Records/DJIFlightRecord_2022-11-03_[15-21-32].txt\n",
      "Error: File format error - ./Flight Records/DJIFlightRecord_2022-11-03_[13-34-44].txt\n",
      "Error: File format error - ./Flight Records/DJIFlightRecord_2022-11-02_[13-04-19].txt\n",
      "Error: File format error - ./Flight Records/DJIFlightRecord_2022-11-04_[13-59-59].txt\n",
      "Error: File format error - ./Flight Records/DJIFlightRecord_2022-11-03_[15-50-16].txt\n",
      "Error: File format error - ./Flight Records/DJIFlightRecord_2022-11-04_[09-34-25].txt\n",
      "Error: File format error - ./Flight Records/DJIFlightRecord_2022-11-04_[11-36-07].txt\n",
      "Error: File format error - ./Flight Records/DJIFlightRecord_2022-11-03_[14-29-03].txt\n",
      "Error: File format error - ./Flight Records/DJIFlightRecord_2022-11-02_[15-17-10].txt\n",
      "Error: File format error - ./Flight Records/DJIFlightRecord_2022-11-03_[15-53-27].txt\n",
      "Error: File format error - ./Flight Records/DJIFlightRecord_2022-10-22_[16-56-33].txt\n",
      "Error: File format error - ./Flight Records/DJIFlightRecord_2022-11-04_[13-12-51].txt\n",
      "Error: File format error - ./Flight Records/DJIFlightRecord_2022-11-04_[09-55-09].txt\n",
      "Error: File format error - ./Flight Records/DJIFlightRecord_2022-11-03_[13-21-22].txt\n",
      "Error: File format error - ./Flight Records/DJIFlightRecord_2022-11-04_[10-37-28].txt\n",
      "Error: File format error - ./Flight Records/DJIFlightRecord_2022-11-03_[13-20-14].txt\n",
      "Error: File format error - ./Flight Records/DJIFlightRecord_2022-10-22_[16-51-50].txt\n",
      "Error: File format error - ./Flight Records/DJIFlightRecord_2022-11-03_[15-52-00].txt\n",
      "Error: File format error - ./Flight Records/DJIFlightRecord_2022-11-04_[09-46-59].txt\n",
      "Warning: [Minor] Not counting rows past 1000 - ./metadata5.csv\n",
      "Warning: [Minor] Not counting rows past 1000 - ./metadata4.csv\n",
      "Warning: [Minor] Not counting rows past 1000 - ./metadata6.csv\n",
      "Warning: [Minor] Not counting rows past 1000 - ./metadata3.csv\n",
      "Warning: [minor] The ExtractEmbedded option may find more tags in the media data - ./M300/DCIM/DJI_202211050523_010/DJI_20221105052317_0001.MOV\n",
      "Warning: [minor] The ExtractEmbedded option may find more tags in the media data - ./M300/DCIM/DJI_202211050523_010/DJI_20221105053412_0003.MOV\n",
      "Warning: [minor] The ExtractEmbedded option may find more tags in the media data - ./M300/DCIM/DJI_202211050523_010/DJI_20221105052845_0002.MOV\n",
      "Warning: [minor] The ExtractEmbedded option may find more tags in the media data - ./M300/DCIM/DJI_202211050648_013/DJI_20221105064855_0004.MOV\n",
      "Warning: [minor] The ExtractEmbedded option may find more tags in the media data - ./M300/DCIM/DJI_202211050614_011/DJI_20221105061500_0002.MOV\n",
      "Warning: [minor] The ExtractEmbedded option may find more tags in the media data - ./M300/DCIM/DJI_202210311605_001/DJI_20221031160556_0001.MOV\n",
      "Warning: [Minor] Not counting rows past 1000 - ./metadata2.csv\n"
     ]
    },
    {
     "name": "stdout",
     "output_type": "stream",
     "text": [
      "../Philippines_Fieldwork/P4/DCIM/114FPLAN\n"
     ]
    },
    {
     "name": "stderr",
     "output_type": "stream",
     "text": [
      "Error: File is empty - ./P4/metadata7.csv\n",
      "Error: File is empty - ./testout.csv\n",
      "Error: File format error - ./Flight Records/DJIFlightRecord_2022-11-02_[12-29-29].txt\n",
      "Error: File format error - ./Flight Records/DJIFlightRecord_2022-11-01_[16-49-00].txt\n",
      "Error: File format error - ./Flight Records/DJIFlightRecord_2022-11-01_[15-53-12].txt\n",
      "Error: File format error - ./Flight Records/DJIFlightRecord_2022-11-03_[13-59-11].txt\n",
      "Error: File format error - ./Flight Records/DJIFlightRecord_2022-11-03_[15-21-32].txt\n",
      "Error: File format error - ./Flight Records/DJIFlightRecord_2022-11-03_[13-34-44].txt\n",
      "Error: File format error - ./Flight Records/DJIFlightRecord_2022-11-02_[13-04-19].txt\n",
      "Error: File format error - ./Flight Records/DJIFlightRecord_2022-11-04_[13-59-59].txt\n",
      "Error: File format error - ./Flight Records/DJIFlightRecord_2022-11-03_[15-50-16].txt\n",
      "Error: File format error - ./Flight Records/DJIFlightRecord_2022-11-04_[09-34-25].txt\n",
      "Error: File format error - ./Flight Records/DJIFlightRecord_2022-11-04_[11-36-07].txt\n",
      "Error: File format error - ./Flight Records/DJIFlightRecord_2022-11-03_[14-29-03].txt\n",
      "Error: File format error - ./Flight Records/DJIFlightRecord_2022-11-02_[15-17-10].txt\n",
      "Error: File format error - ./Flight Records/DJIFlightRecord_2022-11-03_[15-53-27].txt\n",
      "Error: File format error - ./Flight Records/DJIFlightRecord_2022-10-22_[16-56-33].txt\n",
      "Error: File format error - ./Flight Records/DJIFlightRecord_2022-11-04_[13-12-51].txt\n",
      "Error: File format error - ./Flight Records/DJIFlightRecord_2022-11-04_[09-55-09].txt\n",
      "Error: File format error - ./Flight Records/DJIFlightRecord_2022-11-03_[13-21-22].txt\n",
      "Error: File format error - ./Flight Records/DJIFlightRecord_2022-11-04_[10-37-28].txt\n",
      "Error: File format error - ./Flight Records/DJIFlightRecord_2022-11-03_[13-20-14].txt\n",
      "Error: File format error - ./Flight Records/DJIFlightRecord_2022-10-22_[16-51-50].txt\n",
      "Error: File format error - ./Flight Records/DJIFlightRecord_2022-11-03_[15-52-00].txt\n",
      "Error: File format error - ./Flight Records/DJIFlightRecord_2022-11-04_[09-46-59].txt\n",
      "Warning: [Minor] Not counting rows past 1000 - ./metadata5.csv\n",
      "Warning: [Minor] Not counting rows past 1000 - ./metadata4.csv\n",
      "Warning: [Minor] Not counting rows past 1000 - ./metadata6.csv\n",
      "Warning: [Minor] Not counting rows past 1000 - ./metadata3.csv\n",
      "Warning: [minor] The ExtractEmbedded option may find more tags in the media data - ./M300/DCIM/DJI_202211050523_010/DJI_20221105052317_0001.MOV\n",
      "Warning: [minor] The ExtractEmbedded option may find more tags in the media data - ./M300/DCIM/DJI_202211050523_010/DJI_20221105053412_0003.MOV\n",
      "Warning: [minor] The ExtractEmbedded option may find more tags in the media data - ./M300/DCIM/DJI_202211050523_010/DJI_20221105052845_0002.MOV\n",
      "Warning: [minor] The ExtractEmbedded option may find more tags in the media data - ./M300/DCIM/DJI_202211050648_013/DJI_20221105064855_0004.MOV\n",
      "Warning: [minor] The ExtractEmbedded option may find more tags in the media data - ./M300/DCIM/DJI_202211050614_011/DJI_20221105061500_0002.MOV\n",
      "Warning: [minor] The ExtractEmbedded option may find more tags in the media data - ./M300/DCIM/DJI_202210311605_001/DJI_20221031160556_0001.MOV\n",
      "Warning: [Minor] Not counting rows past 1000 - ./metadata2.csv\n"
     ]
    },
    {
     "name": "stdout",
     "output_type": "stream",
     "text": [
      "../Philippines_Fieldwork/P4/DCIM/102FPLAN\n"
     ]
    },
    {
     "name": "stderr",
     "output_type": "stream",
     "text": [
      "Error: File is empty - ./P4/metadata7.csv\n",
      "Error: File is empty - ./testout.csv\n",
      "Error: File format error - ./Flight Records/DJIFlightRecord_2022-11-02_[12-29-29].txt\n",
      "Error: File format error - ./Flight Records/DJIFlightRecord_2022-11-01_[16-49-00].txt\n",
      "Error: File format error - ./Flight Records/DJIFlightRecord_2022-11-01_[15-53-12].txt\n",
      "Error: File format error - ./Flight Records/DJIFlightRecord_2022-11-03_[13-59-11].txt\n",
      "Error: File format error - ./Flight Records/DJIFlightRecord_2022-11-03_[15-21-32].txt\n",
      "Error: File format error - ./Flight Records/DJIFlightRecord_2022-11-03_[13-34-44].txt\n",
      "Error: File format error - ./Flight Records/DJIFlightRecord_2022-11-02_[13-04-19].txt\n",
      "Error: File format error - ./Flight Records/DJIFlightRecord_2022-11-04_[13-59-59].txt\n",
      "Error: File format error - ./Flight Records/DJIFlightRecord_2022-11-03_[15-50-16].txt\n",
      "Error: File format error - ./Flight Records/DJIFlightRecord_2022-11-04_[09-34-25].txt\n",
      "Error: File format error - ./Flight Records/DJIFlightRecord_2022-11-04_[11-36-07].txt\n",
      "Error: File format error - ./Flight Records/DJIFlightRecord_2022-11-03_[14-29-03].txt\n",
      "Error: File format error - ./Flight Records/DJIFlightRecord_2022-11-02_[15-17-10].txt\n",
      "Error: File format error - ./Flight Records/DJIFlightRecord_2022-11-03_[15-53-27].txt\n",
      "Error: File format error - ./Flight Records/DJIFlightRecord_2022-10-22_[16-56-33].txt\n",
      "Error: File format error - ./Flight Records/DJIFlightRecord_2022-11-04_[13-12-51].txt\n",
      "Error: File format error - ./Flight Records/DJIFlightRecord_2022-11-04_[09-55-09].txt\n",
      "Error: File format error - ./Flight Records/DJIFlightRecord_2022-11-03_[13-21-22].txt\n",
      "Error: File format error - ./Flight Records/DJIFlightRecord_2022-11-04_[10-37-28].txt\n",
      "Error: File format error - ./Flight Records/DJIFlightRecord_2022-11-03_[13-20-14].txt\n",
      "Error: File format error - ./Flight Records/DJIFlightRecord_2022-10-22_[16-51-50].txt\n",
      "Error: File format error - ./Flight Records/DJIFlightRecord_2022-11-03_[15-52-00].txt\n",
      "Error: File format error - ./Flight Records/DJIFlightRecord_2022-11-04_[09-46-59].txt\n",
      "Warning: [Minor] Not counting rows past 1000 - ./metadata5.csv\n",
      "Warning: [Minor] Not counting rows past 1000 - ./metadata4.csv\n",
      "Warning: [Minor] Not counting rows past 1000 - ./metadata6.csv\n",
      "Warning: [Minor] Not counting rows past 1000 - ./metadata3.csv\n",
      "Warning: [minor] The ExtractEmbedded option may find more tags in the media data - ./M300/DCIM/DJI_202211050523_010/DJI_20221105052317_0001.MOV\n",
      "Warning: [minor] The ExtractEmbedded option may find more tags in the media data - ./M300/DCIM/DJI_202211050523_010/DJI_20221105053412_0003.MOV\n",
      "Warning: [minor] The ExtractEmbedded option may find more tags in the media data - ./M300/DCIM/DJI_202211050523_010/DJI_20221105052845_0002.MOV\n",
      "Warning: [minor] The ExtractEmbedded option may find more tags in the media data - ./M300/DCIM/DJI_202211050648_013/DJI_20221105064855_0004.MOV\n",
      "Warning: [minor] The ExtractEmbedded option may find more tags in the media data - ./M300/DCIM/DJI_202211050614_011/DJI_20221105061500_0002.MOV\n",
      "Warning: [minor] The ExtractEmbedded option may find more tags in the media data - ./M300/DCIM/DJI_202210311605_001/DJI_20221031160556_0001.MOV\n",
      "Warning: [Minor] Not counting rows past 1000 - ./metadata2.csv\n"
     ]
    },
    {
     "name": "stdout",
     "output_type": "stream",
     "text": [
      "../Philippines_Fieldwork/P4/DCIM/105FPLAN\n"
     ]
    },
    {
     "name": "stderr",
     "output_type": "stream",
     "text": [
      "Warning: [Minor] Not counting rows past 1000 - ./P4/metadata8.csv\n",
      "Error: File is empty - ./P4/metadata7.csv\n",
      "Error: File is empty - ./testout.csv\n",
      "Error: File format error - ./Flight Records/DJIFlightRecord_2022-11-02_[12-29-29].txt\n",
      "Error: File format error - ./Flight Records/DJIFlightRecord_2022-11-01_[16-49-00].txt\n",
      "Error: File format error - ./Flight Records/DJIFlightRecord_2022-11-01_[15-53-12].txt\n",
      "Error: File format error - ./Flight Records/DJIFlightRecord_2022-11-03_[13-59-11].txt\n",
      "Error: File format error - ./Flight Records/DJIFlightRecord_2022-11-03_[15-21-32].txt\n",
      "Error: File format error - ./Flight Records/DJIFlightRecord_2022-11-03_[13-34-44].txt\n",
      "Error: File format error - ./Flight Records/DJIFlightRecord_2022-11-02_[13-04-19].txt\n",
      "Error: File format error - ./Flight Records/DJIFlightRecord_2022-11-04_[13-59-59].txt\n",
      "Error: File format error - ./Flight Records/DJIFlightRecord_2022-11-03_[15-50-16].txt\n",
      "Error: File format error - ./Flight Records/DJIFlightRecord_2022-11-04_[09-34-25].txt\n",
      "Error: File format error - ./Flight Records/DJIFlightRecord_2022-11-04_[11-36-07].txt\n",
      "Error: File format error - ./Flight Records/DJIFlightRecord_2022-11-03_[14-29-03].txt\n",
      "Error: File format error - ./Flight Records/DJIFlightRecord_2022-11-02_[15-17-10].txt\n",
      "Error: File format error - ./Flight Records/DJIFlightRecord_2022-11-03_[15-53-27].txt\n",
      "Error: File format error - ./Flight Records/DJIFlightRecord_2022-10-22_[16-56-33].txt\n",
      "Error: File format error - ./Flight Records/DJIFlightRecord_2022-11-04_[13-12-51].txt\n",
      "Error: File format error - ./Flight Records/DJIFlightRecord_2022-11-04_[09-55-09].txt\n",
      "Error: File format error - ./Flight Records/DJIFlightRecord_2022-11-03_[13-21-22].txt\n",
      "Error: File format error - ./Flight Records/DJIFlightRecord_2022-11-04_[10-37-28].txt\n",
      "Error: File format error - ./Flight Records/DJIFlightRecord_2022-11-03_[13-20-14].txt\n",
      "Error: File format error - ./Flight Records/DJIFlightRecord_2022-10-22_[16-51-50].txt\n",
      "Error: File format error - ./Flight Records/DJIFlightRecord_2022-11-03_[15-52-00].txt\n",
      "Error: File format error - ./Flight Records/DJIFlightRecord_2022-11-04_[09-46-59].txt\n",
      "Warning: [Minor] Not counting rows past 1000 - ./metadata5.csv\n",
      "Warning: [Minor] Not counting rows past 1000 - ./metadata4.csv\n",
      "Warning: [Minor] Not counting rows past 1000 - ./metadata6.csv\n",
      "Warning: [Minor] Not counting rows past 1000 - ./metadata3.csv\n",
      "Warning: [minor] The ExtractEmbedded option may find more tags in the media data - ./M300/DCIM/DJI_202211050523_010/DJI_20221105052317_0001.MOV\n",
      "Warning: [minor] The ExtractEmbedded option may find more tags in the media data - ./M300/DCIM/DJI_202211050523_010/DJI_20221105053412_0003.MOV\n",
      "Warning: [minor] The ExtractEmbedded option may find more tags in the media data - ./M300/DCIM/DJI_202211050523_010/DJI_20221105052845_0002.MOV\n",
      "Warning: [minor] The ExtractEmbedded option may find more tags in the media data - ./M300/DCIM/DJI_202211050648_013/DJI_20221105064855_0004.MOV\n",
      "Warning: [minor] The ExtractEmbedded option may find more tags in the media data - ./M300/DCIM/DJI_202211050614_011/DJI_20221105061500_0002.MOV\n",
      "Warning: [minor] The ExtractEmbedded option may find more tags in the media data - ./M300/DCIM/DJI_202210311605_001/DJI_20221031160556_0001.MOV\n",
      "Warning: [Minor] Not counting rows past 1000 - ./metadata2.csv\n"
     ]
    },
    {
     "name": "stdout",
     "output_type": "stream",
     "text": [
      "../Philippines_Fieldwork/P4/DCIM/113FPLAN\n"
     ]
    },
    {
     "name": "stderr",
     "output_type": "stream",
     "text": [
      "Warning: [Minor] Not counting rows past 1000 - ./P4/metadata8.csv\n",
      "Error: File is empty - ./P4/metadata7.csv\n",
      "Error: File is empty - ./testout.csv\n",
      "Error: File format error - ./Flight Records/DJIFlightRecord_2022-11-02_[12-29-29].txt\n",
      "Error: File format error - ./Flight Records/DJIFlightRecord_2022-11-01_[16-49-00].txt\n",
      "Error: File format error - ./Flight Records/DJIFlightRecord_2022-11-01_[15-53-12].txt\n",
      "Error: File format error - ./Flight Records/DJIFlightRecord_2022-11-03_[13-59-11].txt\n",
      "Error: File format error - ./Flight Records/DJIFlightRecord_2022-11-03_[15-21-32].txt\n",
      "Error: File format error - ./Flight Records/DJIFlightRecord_2022-11-03_[13-34-44].txt\n",
      "Error: File format error - ./Flight Records/DJIFlightRecord_2022-11-02_[13-04-19].txt\n",
      "Error: File format error - ./Flight Records/DJIFlightRecord_2022-11-04_[13-59-59].txt\n",
      "Error: File format error - ./Flight Records/DJIFlightRecord_2022-11-03_[15-50-16].txt\n",
      "Error: File format error - ./Flight Records/DJIFlightRecord_2022-11-04_[09-34-25].txt\n",
      "Error: File format error - ./Flight Records/DJIFlightRecord_2022-11-04_[11-36-07].txt\n",
      "Error: File format error - ./Flight Records/DJIFlightRecord_2022-11-03_[14-29-03].txt\n",
      "Error: File format error - ./Flight Records/DJIFlightRecord_2022-11-02_[15-17-10].txt\n",
      "Error: File format error - ./Flight Records/DJIFlightRecord_2022-11-03_[15-53-27].txt\n",
      "Error: File format error - ./Flight Records/DJIFlightRecord_2022-10-22_[16-56-33].txt\n",
      "Error: File format error - ./Flight Records/DJIFlightRecord_2022-11-04_[13-12-51].txt\n",
      "Error: File format error - ./Flight Records/DJIFlightRecord_2022-11-04_[09-55-09].txt\n",
      "Error: File format error - ./Flight Records/DJIFlightRecord_2022-11-03_[13-21-22].txt\n",
      "Error: File format error - ./Flight Records/DJIFlightRecord_2022-11-04_[10-37-28].txt\n",
      "Error: File format error - ./Flight Records/DJIFlightRecord_2022-11-03_[13-20-14].txt\n",
      "Error: File format error - ./Flight Records/DJIFlightRecord_2022-10-22_[16-51-50].txt\n",
      "Error: File format error - ./Flight Records/DJIFlightRecord_2022-11-03_[15-52-00].txt\n",
      "Error: File format error - ./Flight Records/DJIFlightRecord_2022-11-04_[09-46-59].txt\n",
      "Warning: [Minor] Not counting rows past 1000 - ./metadata5.csv\n",
      "Warning: [Minor] Not counting rows past 1000 - ./metadata4.csv\n",
      "Warning: [Minor] Not counting rows past 1000 - ./metadata6.csv\n",
      "Warning: [Minor] Not counting rows past 1000 - ./metadata3.csv\n",
      "Warning: [minor] The ExtractEmbedded option may find more tags in the media data - ./M300/DCIM/DJI_202211050523_010/DJI_20221105052317_0001.MOV\n",
      "Warning: [minor] The ExtractEmbedded option may find more tags in the media data - ./M300/DCIM/DJI_202211050523_010/DJI_20221105053412_0003.MOV\n",
      "Warning: [minor] The ExtractEmbedded option may find more tags in the media data - ./M300/DCIM/DJI_202211050523_010/DJI_20221105052845_0002.MOV\n",
      "Warning: [minor] The ExtractEmbedded option may find more tags in the media data - ./M300/DCIM/DJI_202211050648_013/DJI_20221105064855_0004.MOV\n",
      "Warning: [minor] The ExtractEmbedded option may find more tags in the media data - ./M300/DCIM/DJI_202211050614_011/DJI_20221105061500_0002.MOV\n",
      "Warning: [minor] The ExtractEmbedded option may find more tags in the media data - ./M300/DCIM/DJI_202210311605_001/DJI_20221031160556_0001.MOV\n",
      "Warning: [Minor] Not counting rows past 1000 - ./metadata2.csv\n"
     ]
    },
    {
     "name": "stdout",
     "output_type": "stream",
     "text": [
      "../Philippines_Fieldwork/P4/DCIM/109FPLAN\n"
     ]
    },
    {
     "name": "stderr",
     "output_type": "stream",
     "text": [
      "Warning: [Minor] Not counting rows past 1000 - ./P4/metadata8.csv\n",
      "Error: File is empty - ./P4/metadata7.csv\n",
      "Error: File is empty - ./testout.csv\n",
      "Error: File format error - ./Flight Records/DJIFlightRecord_2022-11-02_[12-29-29].txt\n",
      "Error: File format error - ./Flight Records/DJIFlightRecord_2022-11-01_[16-49-00].txt\n",
      "Error: File format error - ./Flight Records/DJIFlightRecord_2022-11-01_[15-53-12].txt\n",
      "Error: File format error - ./Flight Records/DJIFlightRecord_2022-11-03_[13-59-11].txt\n",
      "Error: File format error - ./Flight Records/DJIFlightRecord_2022-11-03_[15-21-32].txt\n",
      "Error: File format error - ./Flight Records/DJIFlightRecord_2022-11-03_[13-34-44].txt\n",
      "Error: File format error - ./Flight Records/DJIFlightRecord_2022-11-02_[13-04-19].txt\n",
      "Error: File format error - ./Flight Records/DJIFlightRecord_2022-11-04_[13-59-59].txt\n",
      "Error: File format error - ./Flight Records/DJIFlightRecord_2022-11-03_[15-50-16].txt\n",
      "Error: File format error - ./Flight Records/DJIFlightRecord_2022-11-04_[09-34-25].txt\n",
      "Error: File format error - ./Flight Records/DJIFlightRecord_2022-11-04_[11-36-07].txt\n",
      "Error: File format error - ./Flight Records/DJIFlightRecord_2022-11-03_[14-29-03].txt\n",
      "Error: File format error - ./Flight Records/DJIFlightRecord_2022-11-02_[15-17-10].txt\n",
      "Error: File format error - ./Flight Records/DJIFlightRecord_2022-11-03_[15-53-27].txt\n",
      "Error: File format error - ./Flight Records/DJIFlightRecord_2022-10-22_[16-56-33].txt\n",
      "Error: File format error - ./Flight Records/DJIFlightRecord_2022-11-04_[13-12-51].txt\n",
      "Error: File format error - ./Flight Records/DJIFlightRecord_2022-11-04_[09-55-09].txt\n",
      "Error: File format error - ./Flight Records/DJIFlightRecord_2022-11-03_[13-21-22].txt\n",
      "Error: File format error - ./Flight Records/DJIFlightRecord_2022-11-04_[10-37-28].txt\n",
      "Error: File format error - ./Flight Records/DJIFlightRecord_2022-11-03_[13-20-14].txt\n",
      "Error: File format error - ./Flight Records/DJIFlightRecord_2022-10-22_[16-51-50].txt\n",
      "Error: File format error - ./Flight Records/DJIFlightRecord_2022-11-03_[15-52-00].txt\n",
      "Error: File format error - ./Flight Records/DJIFlightRecord_2022-11-04_[09-46-59].txt\n",
      "Warning: [Minor] Not counting rows past 1000 - ./metadata5.csv\n",
      "Warning: [Minor] Not counting rows past 1000 - ./metadata4.csv\n",
      "Warning: [Minor] Not counting rows past 1000 - ./metadata6.csv\n",
      "Warning: [Minor] Not counting rows past 1000 - ./metadata3.csv\n",
      "Warning: [minor] The ExtractEmbedded option may find more tags in the media data - ./M300/DCIM/DJI_202211050523_010/DJI_20221105052317_0001.MOV\n",
      "Warning: [minor] The ExtractEmbedded option may find more tags in the media data - ./M300/DCIM/DJI_202211050523_010/DJI_20221105053412_0003.MOV\n",
      "Warning: [minor] The ExtractEmbedded option may find more tags in the media data - ./M300/DCIM/DJI_202211050523_010/DJI_20221105052845_0002.MOV\n",
      "Warning: [minor] The ExtractEmbedded option may find more tags in the media data - ./M300/DCIM/DJI_202211050648_013/DJI_20221105064855_0004.MOV\n",
      "Warning: [minor] The ExtractEmbedded option may find more tags in the media data - ./M300/DCIM/DJI_202211050614_011/DJI_20221105061500_0002.MOV\n",
      "Warning: [minor] The ExtractEmbedded option may find more tags in the media data - ./M300/DCIM/DJI_202210311605_001/DJI_20221031160556_0001.MOV\n",
      "Warning: [Minor] Not counting rows past 1000 - ./metadata2.csv\n"
     ]
    },
    {
     "name": "stdout",
     "output_type": "stream",
     "text": [
      "../Philippines_Fieldwork/P4/DCIM/112FPLAN\n"
     ]
    },
    {
     "name": "stderr",
     "output_type": "stream",
     "text": [
      "Warning: [Minor] Not counting rows past 1000 - ./P4/metadata8.csv\n",
      "Error: File is empty - ./P4/metadata7.csv\n",
      "Error: File is empty - ./testout.csv\n",
      "Error: File format error - ./Flight Records/DJIFlightRecord_2022-11-02_[12-29-29].txt\n",
      "Error: File format error - ./Flight Records/DJIFlightRecord_2022-11-01_[16-49-00].txt\n",
      "Error: File format error - ./Flight Records/DJIFlightRecord_2022-11-01_[15-53-12].txt\n",
      "Error: File format error - ./Flight Records/DJIFlightRecord_2022-11-03_[13-59-11].txt\n",
      "Error: File format error - ./Flight Records/DJIFlightRecord_2022-11-03_[15-21-32].txt\n",
      "Error: File format error - ./Flight Records/DJIFlightRecord_2022-11-03_[13-34-44].txt\n",
      "Error: File format error - ./Flight Records/DJIFlightRecord_2022-11-02_[13-04-19].txt\n",
      "Error: File format error - ./Flight Records/DJIFlightRecord_2022-11-04_[13-59-59].txt\n",
      "Error: File format error - ./Flight Records/DJIFlightRecord_2022-11-03_[15-50-16].txt\n",
      "Error: File format error - ./Flight Records/DJIFlightRecord_2022-11-04_[09-34-25].txt\n",
      "Error: File format error - ./Flight Records/DJIFlightRecord_2022-11-04_[11-36-07].txt\n",
      "Error: File format error - ./Flight Records/DJIFlightRecord_2022-11-03_[14-29-03].txt\n",
      "Error: File format error - ./Flight Records/DJIFlightRecord_2022-11-02_[15-17-10].txt\n",
      "Error: File format error - ./Flight Records/DJIFlightRecord_2022-11-03_[15-53-27].txt\n",
      "Error: File format error - ./Flight Records/DJIFlightRecord_2022-10-22_[16-56-33].txt\n",
      "Error: File format error - ./Flight Records/DJIFlightRecord_2022-11-04_[13-12-51].txt\n",
      "Error: File format error - ./Flight Records/DJIFlightRecord_2022-11-04_[09-55-09].txt\n",
      "Error: File format error - ./Flight Records/DJIFlightRecord_2022-11-03_[13-21-22].txt\n",
      "Error: File format error - ./Flight Records/DJIFlightRecord_2022-11-04_[10-37-28].txt\n",
      "Error: File format error - ./Flight Records/DJIFlightRecord_2022-11-03_[13-20-14].txt\n",
      "Error: File format error - ./Flight Records/DJIFlightRecord_2022-10-22_[16-51-50].txt\n",
      "Error: File format error - ./Flight Records/DJIFlightRecord_2022-11-03_[15-52-00].txt\n",
      "Error: File format error - ./Flight Records/DJIFlightRecord_2022-11-04_[09-46-59].txt\n",
      "Warning: [Minor] Not counting rows past 1000 - ./metadata5.csv\n",
      "Warning: [Minor] Not counting rows past 1000 - ./metadata4.csv\n",
      "Warning: [Minor] Not counting rows past 1000 - ./metadata6.csv\n",
      "Warning: [Minor] Not counting rows past 1000 - ./metadata3.csv\n",
      "Warning: [minor] The ExtractEmbedded option may find more tags in the media data - ./M300/DCIM/DJI_202211050523_010/DJI_20221105052317_0001.MOV\n",
      "Warning: [minor] The ExtractEmbedded option may find more tags in the media data - ./M300/DCIM/DJI_202211050523_010/DJI_20221105053412_0003.MOV\n",
      "Warning: [minor] The ExtractEmbedded option may find more tags in the media data - ./M300/DCIM/DJI_202211050523_010/DJI_20221105052845_0002.MOV\n",
      "Warning: [minor] The ExtractEmbedded option may find more tags in the media data - ./M300/DCIM/DJI_202211050648_013/DJI_20221105064855_0004.MOV\n",
      "Warning: [minor] The ExtractEmbedded option may find more tags in the media data - ./M300/DCIM/DJI_202211050614_011/DJI_20221105061500_0002.MOV\n",
      "Warning: [minor] The ExtractEmbedded option may find more tags in the media data - ./M300/DCIM/DJI_202210311605_001/DJI_20221031160556_0001.MOV\n",
      "Warning: [Minor] Not counting rows past 1000 - ./metadata2.csv\n"
     ]
    },
    {
     "name": "stdout",
     "output_type": "stream",
     "text": [
      "../Philippines_Fieldwork/P4/DCIM/104FPLAN\n"
     ]
    },
    {
     "name": "stderr",
     "output_type": "stream",
     "text": [
      "Warning: [Minor] Not counting rows past 1000 - ./P4/metadata9.csv\n",
      "Warning: [Minor] Not counting rows past 1000 - ./P4/metadata8.csv\n",
      "Error: File is empty - ./P4/metadata7.csv\n",
      "Error: File is empty - ./testout.csv\n",
      "Error: File format error - ./Flight Records/DJIFlightRecord_2022-11-02_[12-29-29].txt\n",
      "Error: File format error - ./Flight Records/DJIFlightRecord_2022-11-01_[16-49-00].txt\n",
      "Error: File format error - ./Flight Records/DJIFlightRecord_2022-11-01_[15-53-12].txt\n",
      "Error: File format error - ./Flight Records/DJIFlightRecord_2022-11-03_[13-59-11].txt\n",
      "Error: File format error - ./Flight Records/DJIFlightRecord_2022-11-03_[15-21-32].txt\n",
      "Error: File format error - ./Flight Records/DJIFlightRecord_2022-11-03_[13-34-44].txt\n",
      "Error: File format error - ./Flight Records/DJIFlightRecord_2022-11-02_[13-04-19].txt\n",
      "Error: File format error - ./Flight Records/DJIFlightRecord_2022-11-04_[13-59-59].txt\n",
      "Error: File format error - ./Flight Records/DJIFlightRecord_2022-11-03_[15-50-16].txt\n",
      "Error: File format error - ./Flight Records/DJIFlightRecord_2022-11-04_[09-34-25].txt\n",
      "Error: File format error - ./Flight Records/DJIFlightRecord_2022-11-04_[11-36-07].txt\n",
      "Error: File format error - ./Flight Records/DJIFlightRecord_2022-11-03_[14-29-03].txt\n",
      "Error: File format error - ./Flight Records/DJIFlightRecord_2022-11-02_[15-17-10].txt\n",
      "Error: File format error - ./Flight Records/DJIFlightRecord_2022-11-03_[15-53-27].txt\n",
      "Error: File format error - ./Flight Records/DJIFlightRecord_2022-10-22_[16-56-33].txt\n",
      "Error: File format error - ./Flight Records/DJIFlightRecord_2022-11-04_[13-12-51].txt\n",
      "Error: File format error - ./Flight Records/DJIFlightRecord_2022-11-04_[09-55-09].txt\n",
      "Error: File format error - ./Flight Records/DJIFlightRecord_2022-11-03_[13-21-22].txt\n",
      "Error: File format error - ./Flight Records/DJIFlightRecord_2022-11-04_[10-37-28].txt\n",
      "Error: File format error - ./Flight Records/DJIFlightRecord_2022-11-03_[13-20-14].txt\n",
      "Error: File format error - ./Flight Records/DJIFlightRecord_2022-10-22_[16-51-50].txt\n",
      "Error: File format error - ./Flight Records/DJIFlightRecord_2022-11-03_[15-52-00].txt\n",
      "Error: File format error - ./Flight Records/DJIFlightRecord_2022-11-04_[09-46-59].txt\n",
      "Warning: [Minor] Not counting rows past 1000 - ./metadata5.csv\n",
      "Warning: [Minor] Not counting rows past 1000 - ./metadata4.csv\n",
      "Warning: [Minor] Not counting rows past 1000 - ./metadata6.csv\n",
      "Warning: [Minor] Not counting rows past 1000 - ./metadata3.csv\n",
      "Warning: [minor] The ExtractEmbedded option may find more tags in the media data - ./M300/DCIM/DJI_202211050523_010/DJI_20221105052317_0001.MOV\n",
      "Warning: [minor] The ExtractEmbedded option may find more tags in the media data - ./M300/DCIM/DJI_202211050523_010/DJI_20221105053412_0003.MOV\n",
      "Warning: [minor] The ExtractEmbedded option may find more tags in the media data - ./M300/DCIM/DJI_202211050523_010/DJI_20221105052845_0002.MOV\n",
      "Warning: [minor] The ExtractEmbedded option may find more tags in the media data - ./M300/DCIM/DJI_202211050648_013/DJI_20221105064855_0004.MOV\n",
      "Warning: [minor] The ExtractEmbedded option may find more tags in the media data - ./M300/DCIM/DJI_202211050614_011/DJI_20221105061500_0002.MOV\n",
      "Warning: [minor] The ExtractEmbedded option may find more tags in the media data - ./M300/DCIM/DJI_202210311605_001/DJI_20221031160556_0001.MOV\n",
      "Warning: [Minor] Not counting rows past 1000 - ./metadata2.csv\n"
     ]
    },
    {
     "name": "stdout",
     "output_type": "stream",
     "text": [
      "../Philippines_Fieldwork/P4/DCIM/108MEDIA\n"
     ]
    },
    {
     "name": "stderr",
     "output_type": "stream",
     "text": [
      "Warning: [Minor] Not counting rows past 1000 - ./P4/metadata9.csv\n",
      "Warning: [Minor] Not counting rows past 1000 - ./P4/metadata8.csv\n",
      "Error: File is empty - ./P4/metadata7.csv\n",
      "Error: File is empty - ./testout.csv\n",
      "Error: File format error - ./Flight Records/DJIFlightRecord_2022-11-02_[12-29-29].txt\n",
      "Error: File format error - ./Flight Records/DJIFlightRecord_2022-11-01_[16-49-00].txt\n",
      "Error: File format error - ./Flight Records/DJIFlightRecord_2022-11-01_[15-53-12].txt\n",
      "Error: File format error - ./Flight Records/DJIFlightRecord_2022-11-03_[13-59-11].txt\n",
      "Error: File format error - ./Flight Records/DJIFlightRecord_2022-11-03_[15-21-32].txt\n",
      "Error: File format error - ./Flight Records/DJIFlightRecord_2022-11-03_[13-34-44].txt\n",
      "Error: File format error - ./Flight Records/DJIFlightRecord_2022-11-02_[13-04-19].txt\n",
      "Error: File format error - ./Flight Records/DJIFlightRecord_2022-11-04_[13-59-59].txt\n",
      "Error: File format error - ./Flight Records/DJIFlightRecord_2022-11-03_[15-50-16].txt\n",
      "Error: File format error - ./Flight Records/DJIFlightRecord_2022-11-04_[09-34-25].txt\n",
      "Error: File format error - ./Flight Records/DJIFlightRecord_2022-11-04_[11-36-07].txt\n",
      "Error: File format error - ./Flight Records/DJIFlightRecord_2022-11-03_[14-29-03].txt\n",
      "Error: File format error - ./Flight Records/DJIFlightRecord_2022-11-02_[15-17-10].txt\n",
      "Error: File format error - ./Flight Records/DJIFlightRecord_2022-11-03_[15-53-27].txt\n",
      "Error: File format error - ./Flight Records/DJIFlightRecord_2022-10-22_[16-56-33].txt\n",
      "Error: File format error - ./Flight Records/DJIFlightRecord_2022-11-04_[13-12-51].txt\n",
      "Error: File format error - ./Flight Records/DJIFlightRecord_2022-11-04_[09-55-09].txt\n",
      "Error: File format error - ./Flight Records/DJIFlightRecord_2022-11-03_[13-21-22].txt\n",
      "Error: File format error - ./Flight Records/DJIFlightRecord_2022-11-04_[10-37-28].txt\n",
      "Error: File format error - ./Flight Records/DJIFlightRecord_2022-11-03_[13-20-14].txt\n",
      "Error: File format error - ./Flight Records/DJIFlightRecord_2022-10-22_[16-51-50].txt\n",
      "Error: File format error - ./Flight Records/DJIFlightRecord_2022-11-03_[15-52-00].txt\n",
      "Error: File format error - ./Flight Records/DJIFlightRecord_2022-11-04_[09-46-59].txt\n",
      "Warning: [Minor] Not counting rows past 1000 - ./metadata5.csv\n",
      "Warning: [Minor] Not counting rows past 1000 - ./metadata4.csv\n",
      "Warning: [Minor] Not counting rows past 1000 - ./metadata6.csv\n",
      "Warning: [Minor] Not counting rows past 1000 - ./metadata3.csv\n",
      "Warning: [minor] The ExtractEmbedded option may find more tags in the media data - ./M300/DCIM/DJI_202211050523_010/DJI_20221105052317_0001.MOV\n",
      "Warning: [minor] The ExtractEmbedded option may find more tags in the media data - ./M300/DCIM/DJI_202211050523_010/DJI_20221105053412_0003.MOV\n",
      "Warning: [minor] The ExtractEmbedded option may find more tags in the media data - ./M300/DCIM/DJI_202211050523_010/DJI_20221105052845_0002.MOV\n",
      "Warning: [minor] The ExtractEmbedded option may find more tags in the media data - ./M300/DCIM/DJI_202211050648_013/DJI_20221105064855_0004.MOV\n",
      "Warning: [minor] The ExtractEmbedded option may find more tags in the media data - ./M300/DCIM/DJI_202211050614_011/DJI_20221105061500_0002.MOV\n",
      "Warning: [minor] The ExtractEmbedded option may find more tags in the media data - ./M300/DCIM/DJI_202210311605_001/DJI_20221031160556_0001.MOV\n",
      "Warning: [Minor] Not counting rows past 1000 - ./metadata2.csv\n"
     ]
    },
    {
     "name": "stdout",
     "output_type": "stream",
     "text": [
      "../Philippines_Fieldwork/P4/DCIM/111FPLAN\n"
     ]
    }
   ],
   "source": [
    "for i in all_files:\n",
    "    print (i)\n",
    "    #subprocess.call('/usr/local/bin/exiftool -filename -gpslatitude -gpslongitude -T  -r -n {} > {}.csv'.format(i,i), shell=True)\n",
    "    subprocess.call('/usr/local/bin/exiftool -gpslatitude -gpslongitude -csv -T  -r -n . > testout.csv', shell=True)"
   ]
  },
  {
   "cell_type": "code",
   "execution_count": null,
   "id": "935ddb8e",
   "metadata": {},
   "outputs": [],
   "source": []
  },
  {
   "cell_type": "code",
   "execution_count": null,
   "id": "fb0406ce",
   "metadata": {},
   "outputs": [],
   "source": []
  }
 ],
 "metadata": {
  "kernelspec": {
   "display_name": "Python 3 (ipykernel)",
   "language": "python",
   "name": "python3"
  },
  "language_info": {
   "codemirror_mode": {
    "name": "ipython",
    "version": 3
   },
   "file_extension": ".py",
   "mimetype": "text/x-python",
   "name": "python",
   "nbconvert_exporter": "python",
   "pygments_lexer": "ipython3",
   "version": "3.9.7"
  }
 },
 "nbformat": 4,
 "nbformat_minor": 5
}
